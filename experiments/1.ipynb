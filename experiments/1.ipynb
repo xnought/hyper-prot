{
 "cells": [
  {
   "cell_type": "markdown",
   "metadata": {},
   "source": [
    "## Can I get Foldseek working and executing?"
   ]
  },
  {
   "cell_type": "code",
   "execution_count": 1,
   "metadata": {},
   "outputs": [],
   "source": [
    "import os\n",
    "import subprocess"
   ]
  },
  {
   "cell_type": "code",
   "execution_count": 3,
   "metadata": {},
   "outputs": [
    {
     "name": "stdout",
     "output_type": "stream",
     "text": [
      "../exec/foldseek/bin/foldseek\n"
     ]
    }
   ],
   "source": [
    "EXEC_PATH = os.path.join(\"..\", \"exec\", \"foldseek\", \"bin\", \"foldseek\")\n",
    "print(EXEC_PATH)"
   ]
  },
  {
   "cell_type": "code",
   "execution_count": null,
   "metadata": {},
   "outputs": [],
   "source": [
    "def bash_cmd(cmd: str | list[str]) -> str:\n",
    "    return subprocess.check_output(cmd, shell=True).decode()"
   ]
  },
  {
   "cell_type": "code",
   "execution_count": 21,
   "metadata": {},
   "outputs": [],
   "source": [
    "def parse_easy_search_output(f) -> list[list]:\n",
    "    lines = f.readlines()\n",
    "\n",
    "    parsed_lines = []\n",
    "    for line in lines:\n",
    "        parsed_line = []\n",
    "        for column in line.strip(\"\\n\").split(\"\\t\"):\n",
    "            try:\n",
    "                column = float(column)\n",
    "            except ValueError:\n",
    "                pass\n",
    "            parsed_line.append(column)\n",
    "        parsed_lines.append(parsed_line)\n",
    "\n",
    "    return parsed_lines"
   ]
  },
  {
   "cell_type": "code",
   "execution_count": 14,
   "metadata": {},
   "outputs": [
    {
     "data": {
      "text/plain": [
       "\"Create directory ./temp\\neasy-search ../data/venome ../data/venome ./temp/output ./temp --format-output query,target,prob \\n\\nMMseqs Version:              \\tb7c58acb1201d7932e945bb20e49906fb691437d\\nSeq. id. threshold           \\t0\\nCoverage threshold           \\t0\\nCoverage mode                \\t0\\nMax reject                   \\t2147483647\\nMax accept                   \\t2147483647\\nAdd backtrace                \\tfalse\\nTMscore threshold            \\t0\\nTMscore threshold mode       \\t0\\nTMalign hit order            \\t0\\nTMalign fast                 \\t1\\nPreload mode                 \\t0\\nThreads                      \\t12\\nVerbosity                    \\t3\\nLDDT threshold               \\t0\\nSort by structure bit score  \\t1\\nAlignment type               \\t2\\nExact TMscore                \\t0\\nSubstitution matrix          \\taa:3di.out,nucl:3di.out\\nAlignment mode               \\t3\\nAlignment mode               \\t0\\nE-value threshold            \\t10\\nMin alignment length         \\t0\\nSeq. id. mode                \\t0\\nAlternative alignments       \\t0\\nMax sequence length          \\t65535\\nCompositional bias           \\t1\\nCompositional bias           \\t1\\nGap open cost                \\taa:10,nucl:10\\nGap extension cost           \\taa:1,nucl:1\\nCompressed                   \\t0\\nSeed substitution matrix     \\taa:3di.out,nucl:3di.out\\nSensitivity                  \\t9.5\\nk-mer length                 \\t6\\nTarget search mode           \\t0\\nk-score                      \\tseq:2147483647,prof:2147483647\\nMax results per query        \\t1000\\nSplit database               \\t0\\nSplit mode                   \\t2\\nSplit memory limit           \\t0\\nDiagonal scoring             \\ttrue\\nExact k-mer matching         \\t0\\nMask residues                \\t0\\nMask residues probability    \\t0.99995\\nMask lower case residues     \\t1\\nMinimum diagonal score       \\t30\\nSelected taxa                \\t\\nSpaced k-mers                \\t1\\nSpaced k-mer pattern         \\t\\nLocal temporary path         \\t\\nExhaustive search mode       \\tfalse\\nPrefilter mode               \\t0\\nSearch iterations            \\t1\\nRemove temporary files       \\ttrue\\nMPI runner                   \\t\\nForce restart with latest tmp\\tfalse\\nCluster search               \\t0\\nPath to ProstT5              \\t\\nChain name mode              \\t0\\nWrite mapping file           \\t0\\nMask b-factor threshold      \\t0\\nCoord store mode             \\t2\\nWrite lookup file            \\t1\\nInput format                 \\t0\\nFile Inclusion Regex         \\t.*\\nFile Exclusion Regex         \\t^$\\nAlignment format             \\t0\\nFormat alignment output      \\tquery,target,prob\\nDatabase output              \\tfalse\\nGreedy best hits             \\tfalse\\n\\nAlignment backtraces will be computed, since they were requested by output format.\\ncreatedb ../data/venome ./temp/13452088880743143227/query --chain-name-mode 0 --write-mapping 0 --mask-bfactor-threshold 0 --coord-store-mode 2 --write-lookup 1 --input-format 0 --file-include '.*' --file-exclude '^$' --threads 12 -v 3 \\n\\nOutput file: ./temp/13452088880743143227/query\\n[=================================================================] 3 0s 1ms\\nTime for merging to query_ss: 0h 0m 0s 4ms\\nTime for merging to query_h: 0h 0m 0s 3ms\\nTime for merging to query_ca: 0h 0m 0s 4ms\\nTime for merging to query: 0h 0m 0s 3ms\\nIgnore 0 out of 2.\\nToo short: 0, incorrect: 0, not proteins: 0.\\nTime for processing: 0h 0m 0s 44ms\\ncreatedb ../data/venome ./temp/13452088880743143227/target --chain-name-mode 0 --write-mapping 0 --mask-bfactor-threshold 0 --coord-store-mode 2 --write-lookup 1 --input-format 0 --file-include '.*' --file-exclude '^$' --threads 12 -v 3 \\n\\nOutput file: ./temp/13452088880743143227/target\\n[=================================================================] 3 0s 0ms\\nTime for merging to target_ss: 0h 0m 0s 4ms\\nTime for merging to target_h: 0h 0m 0s 4ms\\nTime for merging to target_ca: 0h 0m 0s 4ms\\nTime for merging to target: 0h 0m 0s 4ms\\nIgnore 0 out of 2.\\nToo short: 0, incorrect: 0, not proteins: 0.\\nTime for processing: 0h 0m 0s 46ms\\nCreate directory ./temp/13452088880743143227/search_tmp\\nsearch ./temp/13452088880743143227/query ./temp/13452088880743143227/target ./temp/13452088880743143227/result ./temp/13452088880743143227/search_tmp -a 1 --alignment-mode 3 --comp-bias-corr 1 --gap-open aa:10,nucl:10 --gap-extend aa:1,nucl:1 -s 9.5 -k 6 --mask 0 --mask-prob 0.99995 --remove-tmp-files 1 \\n\\nprefilter ./temp/13452088880743143227/query_ss ./temp/13452088880743143227/target_ss ./temp/13452088880743143227/search_tmp/1484986480439910805/pref --sub-mat 'aa:3di.out,nucl:3di.out' --seed-sub-mat 'aa:3di.out,nucl:3di.out' -s 9.5 -k 6 --target-search-mode 0 --k-score seq:2147483647,prof:2147483647 --alph-size aa:21,nucl:5 --max-seq-len 65535 --max-seqs 1000 --split 0 --split-mode 2 --split-memory-limit 0 -c 0 --cov-mode 0 --comp-bias-corr 1 --comp-bias-corr-scale 0.15 --diag-score 1 --exact-kmer-matching 0 --mask 0 --mask-prob 0.99995 --mask-lower-case 1 --min-ungapped-score 30 --add-self-matches 0 --spaced-kmer-mode 1 --db-load-mode 0 --pca substitution:1.100,context:1.400 --pcb substitution:4.100,context:5.800 --threads 12 --compressed 0 -v 3 \\n\\nQuery database size: 2 type: Aminoacid\\nEstimated memory consumption: 977M\\nTarget database size: 2 type: Aminoacid\\nIndex table k-mer threshold: 78 at k-mer size 6 \\nIndex table: counting k-mers\\n[=================================================================] 2 0s 0ms\\nIndex table: Masked residues: 0\\nIndex table: fill\\n[=================================================================] 2 0s 0ms\\nIndex statistics\\nEntries:          596\\nDB size:          488 MB\\nAvg k-mer size:   0.000009\\nTop 10 k-mers\\n    DPNVVV\\t2\\n    YDHQAA\\t1\\n    ENAYAA\\t1\\n    GWFACA\\t1\\n    DPPDDA\\t1\\n    QHEEDA\\t1\\n    QSRNDA\\t1\\n    AHEDEA\\t1\\n    YEAYEA\\t1\\n    RDPYEA\\t1\\nTime for index table init: 0h 0m 0s 648ms\\nProcess prefiltering step 1 of 1\\n\\nk-mer similarity threshold: 78\\nStarting prefiltering scores calculation (step 1 of 1)\\nQuery db start 1 to 2\\nTarget db start 1 to 2\\n[=================================================================] 2 0s 0ms\\n\\n6593.552374 k-mers per position\\n608 DB matches per sequence\\n0 overflows\\n2 sequences passed prefiltering per query sequence\\n2 median result list length\\n0 sequences with 0 size result lists\\nTime for merging to pref: 0h 0m 0s 0ms\\nTime for processing: 0h 0m 1s 307ms\\nstructurealign ./temp/13452088880743143227/query ./temp/13452088880743143227/target ./temp/13452088880743143227/search_tmp/1484986480439910805/pref ./temp/13452088880743143227/search_tmp/1484986480439910805/strualn --tmscore-threshold 0 --tmscore-threshold-mode 0 --lddt-threshold 0 --sort-by-structure-bits 1 --alignment-type 2 --exact-tmscore 0 --sub-mat 'aa:3di.out,nucl:3di.out' -a 1 --alignment-mode 3 --alignment-output-mode 0 --wrapped-scoring 0 -e 10 --min-seq-id 0 --min-aln-len 0 --seq-id-mode 0 --alt-ali 0 -c 0 --cov-mode 0 --max-seq-len 65535 --comp-bias-corr 1 --comp-bias-corr-scale 0.5 --max-rejected 2147483647 --max-accept 2147483647 --add-self-matches 0 --db-load-mode 0 --pca substitution:1.100,context:1.400 --pcb substitution:4.100,context:5.800 --score-bias 0 --realign 0 --realign-score-bias -0.2 --realign-max-seqs 2147483647 --corr-score-weight 0 --gap-open aa:10,nucl:10 --gap-extend aa:1,nucl:1 --zdrop 40 --threads 12 --compressed 0 -v 3 \\n\\n[=================================================================] 2 0s 10ms\\nTime for merging to strualn: 0h 0m 0s 2ms\\nTime for processing: 0h 0m 0s 32ms\\nmvdb ./temp/13452088880743143227/search_tmp/1484986480439910805/strualn ./temp/13452088880743143227/search_tmp/1484986480439910805/aln \\n\\nTime for processing: 0h 0m 0s 4ms\\nmvdb ./temp/13452088880743143227/search_tmp/1484986480439910805/aln ./temp/13452088880743143227/result -v 3 \\n\\nTime for processing: 0h 0m 0s 3ms\\nRemoving temporary files\\nrmdb ./temp/13452088880743143227/search_tmp/1484986480439910805/pref -v 3 \\n\\nTime for processing: 0h 0m 0s 1ms\\nconvertalis ./temp/13452088880743143227/query ./temp/13452088880743143227/target ./temp/13452088880743143227/result ./temp/output --sub-mat 'aa:3di.out,nucl:3di.out' --format-mode 0 --format-output query,target,prob --translation-table 1 --gap-open aa:10,nucl:10 --gap-extend aa:1,nucl:1 --db-output 0 --db-load-mode 0 --search-type 0 --threads 12 --compressed 0 -v 3 --exact-tmscore 0 \\n\\n[=================================================================] 2 0s 1ms\\nTime for merging to output: 0h 0m 0s 0ms\\nTime for processing: 0h 0m 0s 7ms\\nrmdb ./temp/13452088880743143227/result -v 3 \\n\\nTime for processing: 0h 0m 0s 14ms\\nrmdb ./temp/13452088880743143227/target -v 3 \\n\\nTime for processing: 0h 0m 0s 2ms\\nrmdb ./temp/13452088880743143227/target_h -v 3 \\n\\nTime for processing: 0h 0m 0s 1ms\\nrmdb ./temp/13452088880743143227/target_ca -v 3 \\n\\nTime for processing: 0h 0m 0s 1ms\\nrmdb ./temp/13452088880743143227/target_ss -v 3 \\n\\nTime for processing: 0h 0m 0s 1ms\\nrmdb ./temp/13452088880743143227/query -v 3 \\n\\nTime for processing: 0h 0m 0s 1ms\\nrmdb ./temp/13452088880743143227/query_h -v 3 \\n\\nTime for processing: 0h 0m 0s 1ms\\nrmdb ./temp/13452088880743143227/query_ca -v 3 \\n\\nTime for processing: 0h 0m 0s 1ms\\nrmdb ./temp/13452088880743143227/query_ss -v 3 \\n\\nTime for processing: 0h 0m 0s 1ms\\n\""
      ]
     },
     "execution_count": 14,
     "metadata": {},
     "output_type": "execute_result"
    }
   ],
   "source": [
    "class Executable:\n",
    "\tdef __init__(self, path):\n",
    "\t\tif not os.path.exists(path):\n",
    "\t\t\traise ImportError(f\"Could not find {path}\")\n",
    "\t\tself.path = path\n",
    "\tdef __call__(self, cmd=\"\"):\n",
    "\t\treturn subprocess.check_output(f\"{self.path} {cmd}\", shell=True).decode()\n",
    "\tdef __repr__(self):\n",
    "\t\treturn f\"Executable(path='{self.path}')\"\n",
    "\n",
    "\n",
    "foldseek = Executable(EXEC_PATH)\n",
    "\n",
    "query = os.path.join(\"..\", \"data\", \"venome\")\n",
    "target = query # just search itself to test result \n",
    "temp_dir = os.path.join(\".\", \"temp\")\n",
    "out_file = os.path.join(temp_dir, \"output\")\n",
    "flags = \"--format-output query,target,prob\"\n",
    "foldseek(f\"easy-search {query} {target} {out_file} {temp_dir} {flags}\")"
   ]
  },
  {
   "cell_type": "code",
   "execution_count": 16,
   "metadata": {},
   "outputs": [
    {
     "name": "stdout",
     "output_type": "stream",
     "text": [
      "Gh_comp2027_c0_seq1\tGh_comp2027_c0_seq1\t1.000\n",
      "Gh_comp2027_c0_seq1\tGh_comp1373_c0_seq1\t0.000\n",
      "Gh_comp1373_c0_seq1\tGh_comp1373_c0_seq1\t1.000\n",
      "Gh_comp1373_c0_seq1\tGh_comp2027_c0_seq1\t0.000\n",
      "\n"
     ]
    }
   ],
   "source": [
    "# works!\n",
    "with open(out_file, \"r\") as f:\n",
    "\tprint(f.read())"
   ]
  },
  {
   "cell_type": "code",
   "execution_count": 26,
   "metadata": {},
   "outputs": [
    {
     "name": "stdout",
     "output_type": "stream",
     "text": [
      "([['Gh_comp1373_c0_seq1', 'Gh_comp1373_c0_seq1', 1.0, 332.0, 0.0, 0.0, 1.0, 332.0, 1.0, 332.0, 3.405e-71, 2888.0], ['Gh_comp1373_c0_seq1', 'Gh_comp2027_c0_seq1', 0.125, 77.0, 59.0, 0.0, 80.0, 147.0, 81.0, 157.0, 3.592, 2.0], ['Gh_comp2027_c0_seq1', 'Gh_comp2027_c0_seq1', 1.0, 286.0, 0.0, 0.0, 1.0, 286.0, 1.0, 286.0, 9.106e-54, 2543.0], ['Gh_comp2027_c0_seq1', 'Gh_comp1373_c0_seq1', 0.125, 77.0, 59.0, 0.0, 81.0, 157.0, 80.0, 147.0, 5.152, 0.0]], \"./temp/output exists and will be overwritten\\neasy-search ../data/venome ../data/venome ./temp/output ./temp \\n\\nMMseqs Version:              \\tb7c58acb1201d7932e945bb20e49906fb691437d\\nSeq. id. threshold           \\t0\\nCoverage threshold           \\t0\\nCoverage mode                \\t0\\nMax reject                   \\t2147483647\\nMax accept                   \\t2147483647\\nAdd backtrace                \\tfalse\\nTMscore threshold            \\t0\\nTMscore threshold mode       \\t0\\nTMalign hit order            \\t0\\nTMalign fast                 \\t1\\nPreload mode                 \\t0\\nThreads                      \\t12\\nVerbosity                    \\t3\\nLDDT threshold               \\t0\\nSort by structure bit score  \\t1\\nAlignment type               \\t2\\nExact TMscore                \\t0\\nSubstitution matrix          \\taa:3di.out,nucl:3di.out\\nAlignment mode               \\t3\\nAlignment mode               \\t0\\nE-value threshold            \\t10\\nMin alignment length         \\t0\\nSeq. id. mode                \\t0\\nAlternative alignments       \\t0\\nMax sequence length          \\t65535\\nCompositional bias           \\t1\\nCompositional bias           \\t1\\nGap open cost                \\taa:10,nucl:10\\nGap extension cost           \\taa:1,nucl:1\\nCompressed                   \\t0\\nSeed substitution matrix     \\taa:3di.out,nucl:3di.out\\nSensitivity                  \\t9.5\\nk-mer length                 \\t6\\nTarget search mode           \\t0\\nk-score                      \\tseq:2147483647,prof:2147483647\\nMax results per query        \\t1000\\nSplit database               \\t0\\nSplit mode                   \\t2\\nSplit memory limit           \\t0\\nDiagonal scoring             \\ttrue\\nExact k-mer matching         \\t0\\nMask residues                \\t0\\nMask residues probability    \\t0.99995\\nMask lower case residues     \\t1\\nMinimum diagonal score       \\t30\\nSelected taxa                \\t\\nSpaced k-mers                \\t1\\nSpaced k-mer pattern         \\t\\nLocal temporary path         \\t\\nExhaustive search mode       \\tfalse\\nPrefilter mode               \\t0\\nSearch iterations            \\t1\\nRemove temporary files       \\ttrue\\nMPI runner                   \\t\\nForce restart with latest tmp\\tfalse\\nCluster search               \\t0\\nPath to ProstT5              \\t\\nChain name mode              \\t0\\nWrite mapping file           \\t0\\nMask b-factor threshold      \\t0\\nCoord store mode             \\t2\\nWrite lookup file            \\t1\\nInput format                 \\t0\\nFile Inclusion Regex         \\t.*\\nFile Exclusion Regex         \\t^$\\nAlignment format             \\t0\\nFormat alignment output      \\tquery,target,fident,alnlen,mismatch,gapopen,qstart,qend,tstart,tend,evalue,bits\\nDatabase output              \\tfalse\\nGreedy best hits             \\tfalse\\n\\ncreatedb ../data/venome ./temp/10776917292962301387/query --chain-name-mode 0 --write-mapping 0 --mask-bfactor-threshold 0 --coord-store-mode 2 --write-lookup 1 --input-format 0 --file-include '.*' --file-exclude '^$' --threads 12 -v 3 \\n\\nOutput file: ./temp/10776917292962301387/query\\n[=================================================================] 3 0s 0ms\\nTime for merging to query_ss: 0h 0m 0s 4ms\\nTime for merging to query_h: 0h 0m 0s 3ms\\nTime for merging to query_ca: 0h 0m 0s 4ms\\nTime for merging to query: 0h 0m 0s 4ms\\nIgnore 0 out of 2.\\nToo short: 0, incorrect: 0, not proteins: 0.\\nTime for processing: 0h 0m 0s 43ms\\ncreatedb ../data/venome ./temp/10776917292962301387/target --chain-name-mode 0 --write-mapping 0 --mask-bfactor-threshold 0 --coord-store-mode 2 --write-lookup 1 --input-format 0 --file-include '.*' --file-exclude '^$' --threads 12 -v 3 \\n\\nOutput file: ./temp/10776917292962301387/target\\n[=================================================================] 3 0s 0ms\\nTime for merging to target_ss: 0h 0m 0s 3ms\\nTime for merging to target_h: 0h 0m 0s 3ms\\nTime for merging to target_ca: 0h 0m 0s 3ms\\nTime for merging to target: 0h 0m 0s 3ms\\nIgnore 0 out of 2.\\nToo short: 0, incorrect: 0, not proteins: 0.\\nTime for processing: 0h 0m 0s 38ms\\nCreate directory ./temp/10776917292962301387/search_tmp\\nsearch ./temp/10776917292962301387/query ./temp/10776917292962301387/target ./temp/10776917292962301387/result ./temp/10776917292962301387/search_tmp --alignment-mode 3 --comp-bias-corr 1 --gap-open aa:10,nucl:10 --gap-extend aa:1,nucl:1 -s 9.5 -k 6 --mask 0 --mask-prob 0.99995 --remove-tmp-files 1 \\n\\nprefilter ./temp/10776917292962301387/query_ss ./temp/10776917292962301387/target_ss ./temp/10776917292962301387/search_tmp/6718458006661626902/pref --sub-mat 'aa:3di.out,nucl:3di.out' --seed-sub-mat 'aa:3di.out,nucl:3di.out' -s 9.5 -k 6 --target-search-mode 0 --k-score seq:2147483647,prof:2147483647 --alph-size aa:21,nucl:5 --max-seq-len 65535 --max-seqs 1000 --split 0 --split-mode 2 --split-memory-limit 0 -c 0 --cov-mode 0 --comp-bias-corr 1 --comp-bias-corr-scale 0.15 --diag-score 1 --exact-kmer-matching 0 --mask 0 --mask-prob 0.99995 --mask-lower-case 1 --min-ungapped-score 30 --add-self-matches 0 --spaced-kmer-mode 1 --db-load-mode 0 --pca substitution:1.100,context:1.400 --pcb substitution:4.100,context:5.800 --threads 12 --compressed 0 -v 3 \\n\\nQuery database size: 2 type: Aminoacid\\nEstimated memory consumption: 977M\\nTarget database size: 2 type: Aminoacid\\nIndex table k-mer threshold: 78 at k-mer size 6 \\nIndex table: counting k-mers\\n[=================================================================] 2 0s 0ms\\nIndex table: Masked residues: 0\\nIndex table: fill\\n[=================================================================] 2 0s 0ms\\nIndex statistics\\nEntries:          596\\nDB size:          488 MB\\nAvg k-mer size:   0.000009\\nTop 10 k-mers\\n    DPNVVV\\t2\\n    YDHQAA\\t1\\n    ENAYAA\\t1\\n    GWFACA\\t1\\n    DPPDDA\\t1\\n    QHEEDA\\t1\\n    QSRNDA\\t1\\n    AHEDEA\\t1\\n    YEAYEA\\t1\\n    RDPYEA\\t1\\nTime for index table init: 0h 0m 0s 617ms\\nProcess prefiltering step 1 of 1\\n\\nk-mer similarity threshold: 78\\nStarting prefiltering scores calculation (step 1 of 1)\\nQuery db start 1 to 2\\nTarget db start 1 to 2\\n[=================================================================] 2 0s 0ms\\n\\n6593.552374 k-mers per position\\n608 DB matches per sequence\\n0 overflows\\n2 sequences passed prefiltering per query sequence\\n2 median result list length\\n0 sequences with 0 size result lists\\nTime for merging to pref: 0h 0m 0s 1ms\\nTime for processing: 0h 0m 1s 275ms\\nstructurealign ./temp/10776917292962301387/query ./temp/10776917292962301387/target ./temp/10776917292962301387/search_tmp/6718458006661626902/pref ./temp/10776917292962301387/search_tmp/6718458006661626902/strualn --tmscore-threshold 0 --tmscore-threshold-mode 0 --lddt-threshold 0 --sort-by-structure-bits 1 --alignment-type 2 --exact-tmscore 0 --sub-mat 'aa:3di.out,nucl:3di.out' -a 0 --alignment-mode 3 --alignment-output-mode 0 --wrapped-scoring 0 -e 10 --min-seq-id 0 --min-aln-len 0 --seq-id-mode 0 --alt-ali 0 -c 0 --cov-mode 0 --max-seq-len 65535 --comp-bias-corr 1 --comp-bias-corr-scale 0.5 --max-rejected 2147483647 --max-accept 2147483647 --add-self-matches 0 --db-load-mode 0 --pca substitution:1.100,context:1.400 --pcb substitution:4.100,context:5.800 --score-bias 0 --realign 0 --realign-score-bias -0.2 --realign-max-seqs 2147483647 --corr-score-weight 0 --gap-open aa:10,nucl:10 --gap-extend aa:1,nucl:1 --zdrop 40 --threads 12 --compressed 0 -v 3 \\n\\n[=================================================================] 2 0s 8ms\\nTime for merging to strualn: 0h 0m 0s 2ms\\nTime for processing: 0h 0m 0s 30ms\\nmvdb ./temp/10776917292962301387/search_tmp/6718458006661626902/strualn ./temp/10776917292962301387/search_tmp/6718458006661626902/aln \\n\\nTime for processing: 0h 0m 0s 2ms\\nmvdb ./temp/10776917292962301387/search_tmp/6718458006661626902/aln ./temp/10776917292962301387/result -v 3 \\n\\nTime for processing: 0h 0m 0s 3ms\\nRemoving temporary files\\nrmdb ./temp/10776917292962301387/search_tmp/6718458006661626902/pref -v 3 \\n\\nTime for processing: 0h 0m 0s 1ms\\n./temp/output exists and will be overwritten\\nconvertalis ./temp/10776917292962301387/query ./temp/10776917292962301387/target ./temp/10776917292962301387/result ./temp/output --sub-mat 'aa:3di.out,nucl:3di.out' --format-mode 0 --format-output query,target,fident,alnlen,mismatch,gapopen,qstart,qend,tstart,tend,evalue,bits --translation-table 1 --gap-open aa:10,nucl:10 --gap-extend aa:1,nucl:1 --db-output 0 --db-load-mode 0 --search-type 0 --threads 12 --compressed 0 -v 3 --exact-tmscore 0 \\n\\n[=================================================================] 2 0s 0ms\\nTime for merging to output: 0h 0m 0s 0ms\\nTime for processing: 0h 0m 0s 4ms\\nrmdb ./temp/10776917292962301387/result -v 3 \\n\\nTime for processing: 0h 0m 0s 1ms\\nrmdb ./temp/10776917292962301387/target -v 3 \\n\\nTime for processing: 0h 0m 0s 1ms\\nrmdb ./temp/10776917292962301387/target_h -v 3 \\n\\nTime for processing: 0h 0m 0s 1ms\\nrmdb ./temp/10776917292962301387/target_ca -v 3 \\n\\nTime for processing: 0h 0m 0s 1ms\\nrmdb ./temp/10776917292962301387/target_ss -v 3 \\n\\nTime for processing: 0h 0m 0s 1ms\\nrmdb ./temp/10776917292962301387/query -v 3 \\n\\nTime for processing: 0h 0m 0s 1ms\\nrmdb ./temp/10776917292962301387/query_h -v 3 \\n\\nTime for processing: 0h 0m 0s 1ms\\nrmdb ./temp/10776917292962301387/query_ca -v 3 \\n\\nTime for processing: 0h 0m 0s 0ms\\nrmdb ./temp/10776917292962301387/query_ss -v 3 \\n\\nTime for processing: 0h 0m 0s 1ms\\n\")\n"
     ]
    }
   ],
   "source": [
    "import shutil\n",
    "\n",
    "class Foldseek(Executable):\n",
    "    def __init__(self):\n",
    "        super().__init__(EXEC_PATH)\n",
    "        self.temp_dir = os.path.join(\".\", \"temp\")\n",
    "        self.out_file = os.path.join(self.temp_dir, \"output\")\n",
    "\n",
    "    def _delete_temp(self):\n",
    "        shutil.rmtree(self.temp_dir)\n",
    "        \n",
    "    def _parse_out_file(self):\n",
    "        with open(self.out_file, \"r\") as f:\n",
    "            lines = f.readlines()\n",
    "            parsed_lines = []\n",
    "            for line in lines:\n",
    "                parsed_line = []\n",
    "                for column in line.strip(\"\\n\").split(\"\\t\"):\n",
    "                    try:\n",
    "                        column = float(column)\n",
    "                    except ValueError:\n",
    "                        pass\n",
    "                    parsed_line.append(column)\n",
    "                parsed_lines.append(parsed_line)\n",
    "\n",
    "            return parsed_lines\n",
    "\n",
    "    def search(self, query, target, flags = \"--format-output query,target,prob\", clean=True):\n",
    "        stdout = self(f\"easy-search {query} {target} {self.out_file} {self.temp_dir} {flags}\")\n",
    "        search_out = self._parse_out_file()\n",
    "\n",
    "        if clean:\n",
    "            self._delete_temp()\n",
    "\n",
    "        return search_out, stdout\n",
    "\n",
    "\n",
    "fs = Foldseek()\n",
    "print(fs.search(query, query))"
   ]
  },
  {
   "cell_type": "code",
   "execution_count": null,
   "metadata": {},
   "outputs": [],
   "source": []
  }
 ],
 "metadata": {
  "kernelspec": {
   "display_name": "Python 3",
   "language": "python",
   "name": "python3"
  },
  "language_info": {
   "codemirror_mode": {
    "name": "ipython",
    "version": 3
   },
   "file_extension": ".py",
   "mimetype": "text/x-python",
   "name": "python",
   "nbconvert_exporter": "python",
   "pygments_lexer": "ipython3",
   "version": "3.10.14"
  }
 },
 "nbformat": 4,
 "nbformat_minor": 2
}
